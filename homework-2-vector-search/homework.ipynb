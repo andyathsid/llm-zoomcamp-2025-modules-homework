{
 "cells": [
  {
   "cell_type": "code",
   "execution_count": 97,
   "id": "7869367e",
   "metadata": {},
   "outputs": [],
   "source": [
    "from qdrant_client import QdrantClient, models\n",
    "from fastembed import TextEmbedding\n",
    "import numpy as np"
   ]
  },
  {
   "cell_type": "code",
   "execution_count": 98,
   "id": "b07b5e70",
   "metadata": {},
   "outputs": [],
   "source": [
    "qd_client = QdrantClient(\"http://localhost:6333\") #connecting to local Qdrant instance"
   ]
  },
  {
   "cell_type": "markdown",
   "id": "3153a4a8",
   "metadata": {},
   "source": [
    "## Q1. Embedding the query"
   ]
  },
  {
   "cell_type": "code",
   "execution_count": 99,
   "id": "58cd3096",
   "metadata": {},
   "outputs": [],
   "source": [
    "model = TextEmbedding(model_name=\"jinaai/jina-embeddings-v2-small-en\")"
   ]
  },
  {
   "cell_type": "code",
   "execution_count": 100,
   "id": "3f5ebe18",
   "metadata": {},
   "outputs": [],
   "source": [
    "q = 'I just discovered the course. Can I join now?'"
   ]
  },
  {
   "cell_type": "code",
   "execution_count": 101,
   "id": "4c38c98f",
   "metadata": {},
   "outputs": [],
   "source": [
    "embedding_q = next(model.embed([q]))"
   ]
  },
  {
   "cell_type": "code",
   "execution_count": 102,
   "id": "a9cfeb0c",
   "metadata": {},
   "outputs": [
    {
     "data": {
      "text/plain": [
       "512"
      ]
     },
     "execution_count": 102,
     "metadata": {},
     "output_type": "execute_result"
    }
   ],
   "source": [
    "len(embedding_q)"
   ]
  },
  {
   "cell_type": "code",
   "execution_count": 103,
   "id": "247725af",
   "metadata": {},
   "outputs": [
    {
     "data": {
      "text/plain": [
       "np.float64(-0.07639462602911798)"
      ]
     },
     "execution_count": 103,
     "metadata": {},
     "output_type": "execute_result"
    }
   ],
   "source": [
    "embedding_q[0]"
   ]
  },
  {
   "cell_type": "code",
   "execution_count": 104,
   "id": "b1cb156f",
   "metadata": {},
   "outputs": [
    {
     "data": {
      "text/plain": [
       "np.float64(-0.11726373885183883)"
      ]
     },
     "execution_count": 104,
     "metadata": {},
     "output_type": "execute_result"
    }
   ],
   "source": [
    "min_value = embedding_q.min()\n",
    "min_value"
   ]
  },
  {
   "cell_type": "markdown",
   "id": "19455945",
   "metadata": {},
   "source": [
    "**A1:** -0.11"
   ]
  },
  {
   "cell_type": "markdown",
   "id": "2224282a",
   "metadata": {},
   "source": [
    "## Q2. Cosine similarity with another vector"
   ]
  },
  {
   "cell_type": "code",
   "execution_count": 105,
   "id": "b338ca31",
   "metadata": {},
   "outputs": [],
   "source": [
    "doc = \"Can I still join the course after the start date?\""
   ]
  },
  {
   "cell_type": "code",
   "execution_count": 106,
   "id": "f686ff56",
   "metadata": {},
   "outputs": [],
   "source": [
    "embedding_doc = next(model.embed([doc]))"
   ]
  },
  {
   "cell_type": "code",
   "execution_count": 107,
   "id": "4e873ff7",
   "metadata": {},
   "outputs": [
    {
     "name": "stdout",
     "output_type": "stream",
     "text": [
      "Cosine similarity: 0.9008528895674548\n"
     ]
    }
   ],
   "source": [
    "cosine_sim = np.dot(embedding_q, embedding_doc)\n",
    "print(\"Cosine similarity:\", cosine_sim)"
   ]
  },
  {
   "cell_type": "markdown",
   "id": "aa58c0f8",
   "metadata": {},
   "source": [
    "**A2:** 0.9"
   ]
  },
  {
   "cell_type": "markdown",
   "id": "b75227bf",
   "metadata": {},
   "source": [
    "## Q3. Ranking by cosine\n"
   ]
  },
  {
   "cell_type": "code",
   "execution_count": 108,
   "id": "8fa66484",
   "metadata": {},
   "outputs": [],
   "source": [
    "documents = [{'text': \"Yes, even if you don't register, you're still eligible to submit the homeworks.\\nBe aware, however, that there will be deadlines for turning in the final projects. So don't leave everything for the last minute.\",\n",
    "  'section': 'General course-related questions',\n",
    "  'question': 'Course - Can I still join the course after the start date?',\n",
    "  'course': 'data-engineering-zoomcamp'},\n",
    " {'text': 'Yes, we will keep all the materials after the course finishes, so you can follow the course at your own pace after it finishes.\\nYou can also continue looking at the homeworks and continue preparing for the next cohort. I guess you can also start working on your final capstone project.',\n",
    "  'section': 'General course-related questions',\n",
    "  'question': 'Course - Can I follow the course after it finishes?',\n",
    "  'course': 'data-engineering-zoomcamp'},\n",
    " {'text': \"The purpose of this document is to capture frequently asked technical questions\\nThe exact day and hour of the course will be 15th Jan 2024 at 17h00. The course will start with the first  “Office Hours'' live.1\\nSubscribe to course public Google Calendar (it works from Desktop only).\\nRegister before the course starts using this link.\\nJoin the course Telegram channel with announcements.\\nDon’t forget to register in DataTalks.Club's Slack and join the channel.\",\n",
    "  'section': 'General course-related questions',\n",
    "  'question': 'Course - When will the course start?',\n",
    "  'course': 'data-engineering-zoomcamp'},\n",
    " {'text': 'You can start by installing and setting up all the dependencies and requirements:\\nGoogle cloud account\\nGoogle Cloud SDK\\nPython 3 (installed with Anaconda)\\nTerraform\\nGit\\nLook over the prerequisites and syllabus to see if you are comfortable with these subjects.',\n",
    "  'section': 'General course-related questions',\n",
    "  'question': 'Course - What can I do before the course starts?',\n",
    "  'course': 'data-engineering-zoomcamp'},\n",
    " {'text': 'Star the repo! Share it with friends if you find it useful ❣️\\nCreate a PR if you see you can improve the text or the structure of the repository.',\n",
    "  'section': 'General course-related questions',\n",
    "  'question': 'How can we contribute to the course?',\n",
    "  'course': 'data-engineering-zoomcamp'}]"
   ]
  },
  {
   "cell_type": "code",
   "execution_count": 109,
   "id": "1e695985",
   "metadata": {},
   "outputs": [],
   "source": [
    "doc_texts = [doc['text'] for doc in documents]\n",
    "doc_embeddings = list(model.embed(doc_texts))"
   ]
  },
  {
   "cell_type": "code",
   "execution_count": 110,
   "id": "003c444d",
   "metadata": {},
   "outputs": [
    {
     "data": {
      "text/plain": [
       "(np.int64(1),\n",
       " array([0.76296845, 0.81823782, 0.80853974, 0.71330788, 0.73044992]))"
      ]
     },
     "execution_count": 110,
     "metadata": {},
     "output_type": "execute_result"
    }
   ],
   "source": [
    "V = np.stack(doc_embeddings)\n",
    "cosines = V.dot(embedding_q)\n",
    "best_idx = np.argmax(cosines)\n",
    "best_idx, cosines"
   ]
  },
  {
   "cell_type": "markdown",
   "id": "a7e99bc4",
   "metadata": {},
   "source": [
    "**A3:** 1"
   ]
  },
  {
   "cell_type": "markdown",
   "id": "e08b642d",
   "metadata": {},
   "source": [
    "## Q4. Ranking by cosine, version two"
   ]
  },
  {
   "cell_type": "code",
   "execution_count": 111,
   "id": "126ee554",
   "metadata": {},
   "outputs": [
    {
     "data": {
      "text/plain": [
       "(np.int64(0),\n",
       " array([0.85145432, 0.8436594 , 0.84082872, 0.77551577, 0.80860079]))"
      ]
     },
     "execution_count": 111,
     "metadata": {},
     "output_type": "execute_result"
    }
   ],
   "source": [
    "full_texts = [doc['question'] + ' ' + doc['text'] for doc in documents]\n",
    "full_embeddings = list(model.embed(full_texts))\n",
    "V_full = np.stack(full_embeddings)\n",
    "cosines_full = V_full.dot(embedding_q)\n",
    "best_idx_full = np.argmax(cosines_full)\n",
    "best_idx_full, cosines_full"
   ]
  },
  {
   "cell_type": "markdown",
   "id": "48699aa9",
   "metadata": {},
   "source": [
    "**A4:** 0"
   ]
  },
  {
   "cell_type": "markdown",
   "id": "b6c2dfed",
   "metadata": {},
   "source": [
    "## Q5. Selecting the embedding model"
   ]
  },
  {
   "cell_type": "code",
   "execution_count": 112,
   "id": "6383b462",
   "metadata": {},
   "outputs": [],
   "source": [
    "models_list = TextEmbedding.list_supported_models()"
   ]
  },
  {
   "cell_type": "code",
   "execution_count": 113,
   "id": "f0b083f9",
   "metadata": {},
   "outputs": [
    {
     "data": {
      "text/plain": [
       "{'model': 'BAAI/bge-small-en',\n",
       " 'sources': {'hf': 'Qdrant/bge-small-en',\n",
       "  'url': 'https://storage.googleapis.com/qdrant-fastembed/BAAI-bge-small-en.tar.gz',\n",
       "  '_deprecated_tar_struct': True},\n",
       " 'model_file': 'model_optimized.onnx',\n",
       " 'description': 'Text embeddings, Unimodal (text), English, 512 input tokens truncation, Prefixes for queries/documents: necessary, 2023 year.',\n",
       " 'license': 'mit',\n",
       " 'size_in_GB': 0.13,\n",
       " 'additional_files': [],\n",
       " 'dim': 384,\n",
       " 'tasks': {}}"
      ]
     },
     "execution_count": 113,
     "metadata": {},
     "output_type": "execute_result"
    }
   ],
   "source": [
    "dims = []\n",
    "for model in models_list:\n",
    "    dims.append(model['dim'])\n",
    "    \n",
    "models_list[np.array(dims).argmin()]"
   ]
  },
  {
   "cell_type": "markdown",
   "id": "f3802971",
   "metadata": {},
   "source": [
    "**A5:** 384"
   ]
  },
  {
   "cell_type": "markdown",
   "id": "d3195d8c",
   "metadata": {},
   "source": [
    "## Q6. Indexing with qdrant "
   ]
  },
  {
   "cell_type": "code",
   "execution_count": 114,
   "id": "15446763",
   "metadata": {},
   "outputs": [],
   "source": [
    "import requests \n",
    "\n",
    "docs_url = 'https://github.com/alexeygrigorev/llm-rag-workshop/raw/main/notebooks/documents.json'\n",
    "docs_response = requests.get(docs_url)\n",
    "documents_raw = docs_response.json()\n",
    "\n",
    "\n",
    "documents = []\n",
    "\n",
    "for course in documents_raw:\n",
    "    course_name = course['course']\n",
    "    if course_name != 'machine-learning-zoomcamp':\n",
    "        continue\n",
    "\n",
    "    for doc in course['documents']:\n",
    "        doc['course'] = course_name\n",
    "        documents.append(doc)"
   ]
  },
  {
   "cell_type": "code",
   "execution_count": 115,
   "id": "1619287e",
   "metadata": {},
   "outputs": [],
   "source": [
    "collection_name = \"ml-zoomcamp-faq\"\n",
    "embedding_model = \"BAAI/bge-small-en\"\n",
    "EMBEDDING_DIM = 384"
   ]
  },
  {
   "cell_type": "code",
   "execution_count": 116,
   "id": "951b2904",
   "metadata": {},
   "outputs": [
    {
     "data": {
      "text/plain": [
       "True"
      ]
     },
     "execution_count": 116,
     "metadata": {},
     "output_type": "execute_result"
    }
   ],
   "source": [
    "qd_client.delete_collection(collection_name=collection_name)\n",
    "qd_client.create_collection(\n",
    "    collection_name=collection_name,\n",
    "    vectors_config=models.VectorParams(\n",
    "        size=EMBEDDING_DIM,\n",
    "        distance=models.Distance.COSINE\n",
    "    )\n",
    ")"
   ]
  },
  {
   "cell_type": "code",
   "execution_count": 117,
   "id": "9d784d07",
   "metadata": {},
   "outputs": [
    {
     "data": {
      "application/vnd.jupyter.widget-view+json": {
       "model_id": "d12e268feaf641b4bcce9055a69a026e",
       "version_major": 2,
       "version_minor": 0
      },
      "text/plain": [
       "Fetching 5 files:   0%|          | 0/5 [00:00<?, ?it/s]"
      ]
     },
     "metadata": {},
     "output_type": "display_data"
    },
    {
     "data": {
      "application/vnd.jupyter.widget-view+json": {
       "model_id": "ed311aacf2684d1bb791b25926d94cda",
       "version_major": 2,
       "version_minor": 0
      },
      "text/plain": [
       "special_tokens_map.json:   0%|          | 0.00/125 [00:00<?, ?B/s]"
      ]
     },
     "metadata": {},
     "output_type": "display_data"
    },
    {
     "data": {
      "application/vnd.jupyter.widget-view+json": {
       "model_id": "d3329958c587474f9e0de59165bd64a0",
       "version_major": 2,
       "version_minor": 0
      },
      "text/plain": [
       "config.json:   0%|          | 0.00/701 [00:00<?, ?B/s]"
      ]
     },
     "metadata": {},
     "output_type": "display_data"
    },
    {
     "data": {
      "application/vnd.jupyter.widget-view+json": {
       "model_id": "eb6f04851cf64b70870569658c032512",
       "version_major": 2,
       "version_minor": 0
      },
      "text/plain": [
       "tokenizer.json: 0.00B [00:00, ?B/s]"
      ]
     },
     "metadata": {},
     "output_type": "display_data"
    },
    {
     "data": {
      "application/vnd.jupyter.widget-view+json": {
       "model_id": "a951e0a732e54a5d87d514cc3205e06b",
       "version_major": 2,
       "version_minor": 0
      },
      "text/plain": [
       "tokenizer_config.json:   0%|          | 0.00/366 [00:00<?, ?B/s]"
      ]
     },
     "metadata": {},
     "output_type": "display_data"
    },
    {
     "data": {
      "application/vnd.jupyter.widget-view+json": {
       "model_id": "2762b150e6e4414ab8b29867f4786df5",
       "version_major": 2,
       "version_minor": 0
      },
      "text/plain": [
       "model_optimized.onnx:   0%|          | 0.00/133M [00:00<?, ?B/s]"
      ]
     },
     "metadata": {},
     "output_type": "display_data"
    },
    {
     "data": {
      "text/plain": [
       "UpdateResult(operation_id=0, status=<UpdateStatus.COMPLETED: 'completed'>)"
      ]
     },
     "execution_count": 117,
     "metadata": {},
     "output_type": "execute_result"
    }
   ],
   "source": [
    "model = TextEmbedding(model_name=embedding_model)\n",
    "points = []\n",
    "for i, doc in enumerate(documents):\n",
    "    text = doc['question'] + ' ' + doc['text']\n",
    "    vector = next(model.embed([text]))\n",
    "    point = models.PointStruct(\n",
    "        id=i,\n",
    "        vector=vector,\n",
    "        payload=doc\n",
    "    )\n",
    "    points.append(point)\n",
    "\n",
    "qd_client.upsert(collection_name=collection_name, points=points)"
   ]
  },
  {
   "cell_type": "code",
   "execution_count": 118,
   "id": "39e7c373",
   "metadata": {},
   "outputs": [],
   "source": [
    "query = \"I just discovered the course. Can I join now?\"\n",
    "query_vector = next(model.embed([query]))"
   ]
  },
  {
   "cell_type": "code",
   "execution_count": 119,
   "id": "67406764",
   "metadata": {},
   "outputs": [
    {
     "name": "stderr",
     "output_type": "stream",
     "text": [
      "/tmp/ipykernel_992/940802027.py:1: DeprecationWarning: `search` method is deprecated and will be removed in the future. Use `query_points` instead.\n",
      "  results = qd_client.search(\n"
     ]
    }
   ],
   "source": [
    "results = qd_client.search(\n",
    "    collection_name=collection_name,\n",
    "    query_vector=query_vector,\n",
    "    limit=1,\n",
    "    with_payload=True\n",
    ")\n"
   ]
  },
  {
   "cell_type": "code",
   "execution_count": 120,
   "id": "b0d29566",
   "metadata": {},
   "outputs": [
    {
     "data": {
      "text/plain": [
       "0.87031734"
      ]
     },
     "execution_count": 120,
     "metadata": {},
     "output_type": "execute_result"
    }
   ],
   "source": [
    "results[0].score"
   ]
  },
  {
   "cell_type": "markdown",
   "id": "2df45e3a",
   "metadata": {},
   "source": [
    "**A6:** 0.87"
   ]
  }
 ],
 "metadata": {
  "kernelspec": {
   "display_name": ".llm-zoomcamp-venv",
   "language": "python",
   "name": "python3"
  },
  "language_info": {
   "codemirror_mode": {
    "name": "ipython",
    "version": 3
   },
   "file_extension": ".py",
   "mimetype": "text/x-python",
   "name": "python",
   "nbconvert_exporter": "python",
   "pygments_lexer": "ipython3",
   "version": "3.11.11"
  }
 },
 "nbformat": 4,
 "nbformat_minor": 5
}
